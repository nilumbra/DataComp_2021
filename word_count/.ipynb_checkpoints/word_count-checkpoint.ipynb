{
 "cells": [
  {
   "cell_type": "code",
   "execution_count": 4,
   "id": "0ebea034",
   "metadata": {},
   "outputs": [],
   "source": [
    "import MeCab"
   ]
  },
  {
   "cell_type": "code",
   "execution_count": 7,
   "id": "c17e4066",
   "metadata": {},
   "outputs": [
    {
     "name": "stdout",
     "output_type": "stream",
     "text": [
      "鬼\t名詞,一般,*,*,*,*,鬼,オニ,オニ\n",
      "滅\t名詞,一般,*,*,*,*,滅,メツ,メツ\n",
      "の\t助詞,連体化,*,*,*,*,の,ノ,ノ\n",
      "刃\t名詞,一般,*,*,*,*,刃,ハ,ハ\n",
      "も\t助詞,係助詞,*,*,*,*,も,モ,モ\n",
      "いい\t形容詞,非自立,*,*,形容詞・イイ,基本形,いい,イイ,イイ\n",
      "けれど\t助詞,接続助詞,*,*,*,*,けれど,ケレド,ケレド\n",
      "、\t記号,読点,*,*,*,*,、,、,、\n",
      "約束\t名詞,サ変接続,*,*,*,*,約束,ヤクソク,ヤクソク\n",
      "の\t助詞,連体化,*,*,*,*,の,ノ,ノ\n",
      "ネバーランド\t名詞,一般,*,*,*,*,*\n",
      "も\t助詞,係助詞,*,*,*,*,も,モ,モ\n",
      "ね\t助詞,終助詞,*,*,*,*,ね,ネ,ネ\n",
      "EOS\n",
      "\n",
      "鬼滅の刃\t名詞,固有名詞,一般,*,*,*,鬼滅の刃,キメツノヤイバ,キメツノヤイバ\n",
      "も\t助詞,係助詞,*,*,*,*,も,モ,モ\n",
      "いい\t形容詞,非自立,*,*,形容詞・イイ,基本形,いい,イイ,イイ\n",
      "けれど\t助詞,接続助詞,*,*,*,*,けれど,ケレド,ケレド\n",
      "、\t記号,読点,*,*,*,*,、,、,、\n",
      "約束のネバーランド\t名詞,固有名詞,一般,*,*,*,約束のネバーランド,ヤクソクノネバーランド,ヤクソクノネバーランド\n",
      "も\t助詞,係助詞,*,*,*,*,も,モ,モ\n",
      "ね\t助詞,終助詞,*,*,*,*,ね,ネ,ネ\n",
      "EOS\n",
      "\n"
     ]
    }
   ],
   "source": [
    "tagger1 = MeCab.Tagger()\n",
    "\n",
    "dicdir = '-d /usr/local/lib/mecab/dic/mecab-ipadic-neologd'\n",
    "tagger2 = MeCab.Tagger(dicdir)\n",
    "\n",
    "# sample_txt = '鬼滅の刃もいいけれど、約束のネバーランドもね'\n",
    "# print(tagger1.parse(sample_txt))\n",
    "# print(tagger2.parse(sample_txt))\n",
    "txt = \"3歳の子供がまだ起きてます😫 夫と二人でカウントダウン予定が寝かしつけー。 幼児で、こんな夜中におきてるおうちありますか？\"\n",
    "print(tagger.parse(txt))"
   ]
  },
  {
   "cell_type": "code",
   "execution_count": null,
   "id": "1c0d8c1e",
   "metadata": {},
   "outputs": [],
   "source": []
  }
 ],
 "metadata": {
  "kernelspec": {
   "display_name": "Python 3 (ipykernel)",
   "language": "python",
   "name": "python3"
  },
  "language_info": {
   "codemirror_mode": {
    "name": "ipython",
    "version": 3
   },
   "file_extension": ".py",
   "mimetype": "text/x-python",
   "name": "python",
   "nbconvert_exporter": "python",
   "pygments_lexer": "ipython3",
   "version": "3.9.7"
  }
 },
 "nbformat": 4,
 "nbformat_minor": 5
}
